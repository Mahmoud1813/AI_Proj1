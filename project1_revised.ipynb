{
  "cells": [
    {
      "cell_type": "code",
      "execution_count": 1,
      "metadata": {
        "id": "ofhvAWihABUt"
      },
      "outputs": [],
      "source": [
        "import numpy as np"
      ]
    },
    {
      "cell_type": "code",
      "execution_count": 2,
      "metadata": {
        "id": "L4jeunv4ABUv"
      },
      "outputs": [],
      "source": [
        "NUMBERS = 26\n",
        "\n",
        "ACTIONS = {\n",
        "    \"N\": np.array([0, -1, 0]),\n",
        "    \"S\": np.array([0, 1, 0]),\n",
        "    \"E\": np.array([0, 0, 1]),\n",
        "    \"W\": np.array([0, 0, -1]),\n",
        "    \"U\": np.array([-1, 0, 0]),\n",
        "    \"D\": np.array([1, 0, 0]),\n",
        "}\n",
        "\n",
        "class State:\n",
        "    \"\"\"\n",
        "    Constructor for the State class\n",
        "    \n",
        "    Args:\n",
        "        state (list[list]): the state of the node\n",
        "        action (str, optional): the action taken to get to this node. Defaults to None.\n",
        "        parent (State, optional): the parent node. Defaults to None.\n",
        "        cost (int, optional): the cost to get to this node. Defaults to 0.\n",
        "    \"\"\"\n",
        "    def __init__(self, state : list[list], action : str = None, parent : \"State\" = None, cost : int = 0):\n",
        "        self.state = np.reshape(state, (3, 3, 3)) # represents the state of each node (3x3x3 list)\n",
        "        self.parent = parent # represents the parent node\n",
        "        self.action = action # represents the action taken to get to this node\n",
        "        self.cost = cost # represents g(n)\n",
        "        self.heuristic = None # represents h(n)\n",
        "        self.total_cost = None # represents f(n)\n",
        "    \n",
        "    \"\"\"\n",
        "    Locates the blank position in the state\n",
        "    \n",
        "    Args:\n",
        "        value (int, str): the value to be located in the state\n",
        "        \n",
        "    Returns:\n",
        "        np.array: the location of the value in the state\n",
        "    \n",
        "    \"\"\"                \n",
        "    def locate(self, value : [int, str]) -> np.array:  # will be used to locate the blank position\n",
        "        return np.array(np.where(self.state == str(value))).T[0]\n",
        "\n",
        "    \"\"\"\n",
        "    Finds all the legal actions that can be taken from the current state.\n",
        "    \n",
        "    Returns:\n",
        "        list: all the legal actions that can be taken from the current state\n",
        "    \"\"\"\n",
        "    def legal_actions(self) -> list:\n",
        "        blank_location = self.locate('*')\n",
        "\n",
        "        actions = []\n",
        "\n",
        "        for action in ACTIONS.keys():            # try every possible action\n",
        "            new_location = blank_location + ACTIONS[action]\n",
        "\n",
        "            if not np.any((new_location < 0)|(new_location > 2)): # if valid action (keeps blank position within boundaries of board) then append to list\n",
        "                actions.append(action)\n",
        "\n",
        "        return actions            # all valid actions that can be taken\n",
        "\n",
        "    \"\"\"\n",
        "    Performs the action on the current state and returns the new state.\n",
        "    \n",
        "    Args:\n",
        "        action (str): the action to be taken\n",
        "        \n",
        "    Returns:\n",
        "        State: the new state after the action has been taken\n",
        "    \"\"\"\n",
        "    def slide(self, action : str) -> \"State\":\n",
        "        blank_location = self.locate('*')\n",
        "        new_location = blank_location + ACTIONS[action]\n",
        "        \n",
        "        new_state = self.state.copy()\n",
        "        new_state[tuple(blank_location)] = new_state[tuple(new_location)]\n",
        "        new_state[tuple(new_location)] = \"*\"\n",
        "        \n",
        "        return State(new_state, action, self, self.cost + 1)\n",
        "\n",
        "    \"\"\"\n",
        "    Calculates the heuristic of the current state using Manhattan distance.\n",
        "    \n",
        "    Args:\n",
        "        goal (State): the goal state\n",
        "    \"\"\"\n",
        "    def calculate_heuristic(self, goal : \"State\") -> None:\n",
        "        self.heuristic = sum([np.abs(self.locate(str(i)) - goal.locate(str(i))).sum() for i in range(1, NUMBERS + 1)])\n",
        "        self.total_cost = self.cost + self.heuristic\n",
        "\n",
        "    \"\"\"\n",
        "    Checks if the current state is equal to the goal state.\n",
        "    \n",
        "    Args:\n",
        "        goal (State): the goal state\n",
        "    \"\"\"\n",
        "    def __eq__(self, other) -> bool:\n",
        "        return np.array_equal(self.state, other.state)"
      ]
    },
    {
      "cell_type": "code",
      "execution_count": 3,
      "metadata": {
        "id": "IJcyFcbCABUx"
      },
      "outputs": [],
      "source": [
        "with open('input1.txt', 'r') as file:\n",
        "    initial_state = []\n",
        "    goal_state = []\n",
        "\n",
        "    for _ in range(3):   # will be used to read a grid into a list of lists\n",
        "      for _ in range(3):\n",
        "        initial_state.append(file.readline().strip('\\n').split(' '))\n",
        "      file.readline()\n",
        "\n",
        "    for _ in range(3):\n",
        "      for _ in range(3):\n",
        "        goal_state.append(file.readline().strip('\\n').split(' '))\n",
        "      file.readline()\n",
        "\n",
        "# print(\"Initial State:\")\n",
        "# for row in initial_state:\n",
        "#     print(row)\n",
        "\n",
        "# print(\"-\" * 20)\n",
        "\n",
        "# print(\"Goal State:\")\n",
        "# for row in goal_state:\n",
        "#     print(row)"
      ]
    },
    {
      "cell_type": "code",
      "execution_count": 4,
      "metadata": {
        "id": "-Vd_7-orABUy"
      },
      "outputs": [],
      "source": [
        "initial_state = State(initial_state)\n",
        "GOAL = State(goal_state)"
      ]
    },
    {
      "cell_type": "code",
      "execution_count": 5,
      "metadata": {
        "id": "N5KKbWb0ABUz"
      },
      "outputs": [],
      "source": [
        "initial_state.calculate_heuristic(GOAL)\n",
        "GOAL.calculate_heuristic(GOAL)"
      ]
    },
    {
      "cell_type": "code",
      "execution_count": 6,
      "metadata": {
        "colab": {
          "base_uri": "https://localhost:8080/"
        },
        "id": "Qg-4AiboABUz",
        "outputId": "145ba637-1332-4335-e2e7-78f49b2be05d"
      },
      "outputs": [
        {
          "data": {
            "text/plain": [
              "['N', 'W', 'U']"
            ]
          },
          "execution_count": 6,
          "metadata": {},
          "output_type": "execute_result"
        }
      ],
      "source": [
        "initial_state.legal_actions() # get possible actions for initial state"
      ]
    },
    {
      "cell_type": "code",
      "execution_count": 7,
      "metadata": {
        "id": "UqKne8xjABU1"
      },
      "outputs": [],
      "source": [
        "\"\"\"\n",
        "A* search algorithm\n",
        "\n",
        "Args:\n",
        "    initial_state (State): the initial state\n",
        "    goal (State): the goal state\n",
        "    \n",
        "Returns:\n",
        "    list: the solution States from the initial state to the goal state\n",
        "\"\"\"\n",
        "def a_star(initial_state : State, goal : State) -> \"list[State]\":\n",
        "    frontier = [initial_state]\n",
        "    explored = []\n",
        "    \n",
        "    # while frontier is not empty\n",
        "    while frontier:\n",
        "        frontier.sort(key = lambda x: x.total_cost)\n",
        "        state = frontier.pop(0)\n",
        "        \n",
        "        # if goal state is reached\n",
        "        if state == goal:\n",
        "            solution = []\n",
        "            while state.parent:\n",
        "                solution.append(state)\n",
        "                state = state.parent\n",
        "                \n",
        "            return solution[::-1]\n",
        "        \n",
        "        explored.append(state)\n",
        "        \n",
        "        for action in state.legal_actions():\n",
        "            child = state.slide(action)\n",
        "            \n",
        "            if child not in explored and child not in frontier:\n",
        "                child.calculate_heuristic(goal)\n",
        "                frontier.append(child)\n",
        "                \n",
        "            elif child in frontier:\n",
        "                if child.cost < frontier[frontier.index(child)].cost:\n",
        "                    frontier.remove(child)\n",
        "                    frontier.append(child)\n",
        "                    \n",
        "    return None"
      ]
    },
    {
      "cell_type": "code",
      "execution_count": 8,
      "metadata": {
        "colab": {
          "base_uri": "https://localhost:8080/"
        },
        "id": "M4g_SE28ABU2",
        "outputId": "889d3b38-6baf-4b0a-d116-d473fa4a0c14"
      },
      "outputs": [
        {
          "data": {
            "text/plain": [
              "[<__main__.State at 0x7f487843eb30>, <__main__.State at 0x7f487843ca00>]"
            ]
          },
          "execution_count": 8,
          "metadata": {},
          "output_type": "execute_result"
        }
      ],
      "source": [
        "a_star(initial_state, GOAL)"
      ]
    }
  ],
  "metadata": {
    "colab": {
      "provenance": []
    },
    "kernelspec": {
      "display_name": "Python 3",
      "language": "python",
      "name": "python3"
    },
    "language_info": {
      "codemirror_mode": {
        "name": "ipython",
        "version": 3
      },
      "file_extension": ".py",
      "mimetype": "text/x-python",
      "name": "python",
      "nbconvert_exporter": "python",
      "pygments_lexer": "ipython3",
      "version": "3.10.12"
    },
    "orig_nbformat": 4
  },
  "nbformat": 4,
  "nbformat_minor": 0
}
